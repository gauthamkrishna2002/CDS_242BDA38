{
 "cells": [
  {
   "cell_type": "code",
   "execution_count": 1,
   "id": "57913196-bfe9-4821-b7cb-487aab76449c",
   "metadata": {},
   "outputs": [
    {
     "name": "stdout",
     "output_type": "stream",
     "text": [
      "Found at position 6\n"
     ]
    }
   ],
   "source": [
    "\"\"\"\n",
    "    Algorithm Number: 01\n",
    "    Algorithm Name: 'Linear Search'\n",
    "    Script Author: Gautham Krishna\n",
    "\"\"\"\n",
    "\n",
    "\n",
    "#define the function for linear search \n",
    "def linear_search(lst, n):\n",
    "#iterate using for loop\n",
    "    for i in range(len(lst)):\n",
    "#for each element in lst[i] check if it is equal to n        \n",
    "        if lst[i] == n:\n",
    "#if equal to n\n",
    "           return i + 1  # Return 1-based index\n",
    "#if not equal to n\n",
    "    return -1  # Element not found\n",
    "lst = [2, 3, 4, 5, 6, 7]\n",
    "n = 7\n",
    "#calling the function\n",
    "result = linear_search(lst, n)\n",
    "#if result not equal to -1 print found if equal print not found\n",
    "if result != -1:\n",
    "    print('Found at position', result)\n",
    "else:\n",
    "    print(\"Not found\")"
   ]
  }
 ],
 "metadata": {
  "kernelspec": {
   "display_name": "Python 3 (ipykernel)",
   "language": "python",
   "name": "python3"
  },
  "language_info": {
   "codemirror_mode": {
    "name": "ipython",
    "version": 3
   },
   "file_extension": ".py",
   "mimetype": "text/x-python",
   "name": "python",
   "nbconvert_exporter": "python",
   "pygments_lexer": "ipython3",
   "version": "3.12.4"
  }
 },
 "nbformat": 4,
 "nbformat_minor": 5
}
